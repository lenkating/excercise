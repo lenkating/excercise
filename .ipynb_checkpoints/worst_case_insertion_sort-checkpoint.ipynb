{
 "cells": [
  {
   "cell_type": "code",
   "execution_count": 19,
   "metadata": {},
   "outputs": [],
   "source": [
    "\n",
    "import time\n"
   ]
  },
  {
   "cell_type": "code",
   "execution_count": 14,
   "metadata": {},
   "outputs": [
    {
     "name": "stdout",
     "output_type": "stream",
     "text": [
      "5.125999450683594e-05\n"
     ]
    },
    {
     "data": {
      "text/plain": [
       "'\\nresults = []\\ndecksizes = [10, 100, 1000, 10000]\\nrepetition_limit = 1\\nfor n in range(0, len(decksizes)):\\n    sum = 0\\n    for repetition in range(1, repetition_limit ):\\n        state = list(range(decksizes[n]+1, 1, -1))\\n        \\n    \\n    start = time.time()\\n    j = 1\\n    for j in range(j, len(state)):\\n        key = state[j]\\n        i = j - 1\\n        while i >= 0 and state[i] > key:\\n            state[i + 1] = key\\n            i = i - 1\\n        state[i + 1] = key\\n    sum = sum + ( time.time() - start )\\n    \\ntime_cost = sum / repetition_limit\\nprint(time_cost)\\n'"
      ]
     },
     "execution_count": 14,
     "metadata": {},
     "output_type": "execute_result"
    }
   ],
   "source": [
    "\n",
    "def insertion_sort(state):\n",
    "    j = 1\n",
    "    for j in range(j, len(state)):\n",
    "        key = state[j]\n",
    "        i = j - 1\n",
    "        while i >= 0 and state[i] > key:\n",
    "                state[i + 1] = state[i]\n",
    "                i = i - 1\n",
    "        state[i + 1] = key\n",
    "        \n",
    "toughest_list = list(range(1,10))\n",
    "toughest_list.sort(reverse=True)\n",
    "start = time.time()\n",
    "insertion_sort(toughest_list)\n",
    "sum = 0\n",
    "time_cost = sum + ( time.time() - start )\n",
    "print(time_cost)\n",
    "\n",
    "\n",
    "'''\n",
    "results = []\n",
    "decksizes = [10, 100, 1000, 10000]\n",
    "repetition_limit = 1\n",
    "for n in range(0, len(decksizes)):\n",
    "    sum = 0\n",
    "    for repetition in range(1, repetition_limit ):\n",
    "        state = list(range(decksizes[n]+1, 1, -1))\n",
    "        \n",
    "    \n",
    "    start = time.time()\n",
    "    j = 1\n",
    "    for j in range(j, len(state)):\n",
    "        key = state[j]\n",
    "        i = j - 1\n",
    "        while i >= 0 and state[i] > key:\n",
    "            state[i + 1] = key\n",
    "            i = i - 1\n",
    "        state[i + 1] = key\n",
    "    sum = sum + ( time.time() - start )\n",
    "    \n",
    "time_cost = sum / repetition_limit\n",
    "print(time_cost)\n",
    "'''\n",
    "        "
   ]
  },
  {
   "cell_type": "code",
   "execution_count": 15,
   "metadata": {},
   "outputs": [
    {
     "name": "stdout",
     "output_type": "stream",
     "text": [
      "0.0007059574127197266\n"
     ]
    }
   ],
   "source": [
    "def insertion_sort(state):\n",
    "    j = 1\n",
    "    for j in range(j, len(state)):\n",
    "        key = state[j]\n",
    "        i = j - 1\n",
    "        while i >= 0 and state[i] > key:\n",
    "                state[i + 1] = state[i]\n",
    "                i = i - 1\n",
    "        state[i + 1] = key\n",
    "        \n",
    "toughest_list = list(range(1,100))\n",
    "toughest_list.sort(reverse=True)\n",
    "start = time.time()\n",
    "insertion_sort(toughest_list)\n",
    "sum = 0\n",
    "time_cost = sum + ( time.time() - start )\n",
    "print(time_cost)"
   ]
  },
  {
   "cell_type": "code",
   "execution_count": 16,
   "metadata": {},
   "outputs": [
    {
     "name": "stdout",
     "output_type": "stream",
     "text": [
      "0.07038998603820801\n"
     ]
    }
   ],
   "source": [
    "def insertion_sort(state):\n",
    "    j = 1\n",
    "    for j in range(j, len(state)):\n",
    "        key = state[j]\n",
    "        i = j - 1\n",
    "        while i >= 0 and state[i] > key:\n",
    "                state[i + 1] = state[i]\n",
    "                i = i - 1\n",
    "        state[i + 1] = key\n",
    "        \n",
    "toughest_list = list(range(1,1000))\n",
    "toughest_list.sort(reverse=True)\n",
    "start = time.time()\n",
    "insertion_sort(toughest_list)\n",
    "sum = 0\n",
    "time_cost = sum + ( time.time() - start )\n",
    "print(time_cost)"
   ]
  },
  {
   "cell_type": "code",
   "execution_count": null,
   "metadata": {},
   "outputs": [],
   "source": [
    "def insertion_sort(state):\n",
    "    j = 1\n",
    "    for j in range(j, len(state)):\n",
    "        key = state[j]\n",
    "        i = j - 1\n",
    "        while i >= 0 and state[i] > key:\n",
    "                state[i + 1] = state[i]\n",
    "                i = i - 1\n",
    "        state[i + 1] = key\n",
    "        \n",
    "toughest_list = list(range(1,10000))\n",
    "toughest_list.sort(reverse=True)\n",
    "start = time.time()\n",
    "insertion_sort(toughest_list)\n",
    "sum = 0\n",
    "time_cost = sum + ( time.time() - start )\n",
    "print(time_cost)"
   ]
  },
  {
   "cell_type": "code",
   "execution_count": null,
   "metadata": {},
   "outputs": [],
   "source": []
  }
 ],
 "metadata": {
  "kernelspec": {
   "display_name": "Python 3",
   "language": "python",
   "name": "python3"
  },
  "language_info": {
   "codemirror_mode": {
    "name": "ipython",
    "version": 3
   },
   "file_extension": ".py",
   "mimetype": "text/x-python",
   "name": "python",
   "nbconvert_exporter": "python",
   "pygments_lexer": "ipython3",
   "version": "3.6.5"
  }
 },
 "nbformat": 4,
 "nbformat_minor": 2
}
